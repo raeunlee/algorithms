{
 "cells": [
  {
   "cell_type": "code",
   "execution_count": 1,
   "metadata": {},
   "outputs": [
    {
     "data": {
      "text/plain": [
       "'\\n소수를 판별하는 알고리즘\\n\\n1. 입력받은 숫자보다 작은 모든숫자를 다 나누어봄\\n2. 입력받은 숫자의 제곱근 까지의 숫자로 나누어봄\\n'"
      ]
     },
     "execution_count": 1,
     "metadata": {},
     "output_type": "execute_result"
    }
   ],
   "source": [
    "#1978 소수찾기\n",
    "\n",
    "'''\n",
    "소수를 판별하는 알고리즘\n",
    "\n",
    "1. 입력받은 숫자보다 작은 모든숫자를 다 나누어봄\n",
    "2. 입력받은 숫자의 제곱근 까지의 숫자로 나누어봄\n",
    "'''\n"
   ]
  },
  {
   "cell_type": "code",
   "execution_count": 12,
   "metadata": {},
   "outputs": [
    {
     "name": "stdout",
     "output_type": "stream",
     "text": [
      "4\n",
      "1 3 5 9\n",
      "2\n"
     ]
    }
   ],
   "source": [
    "n = int(input())\n",
    "n_list = list(map(int, input().split()))\n",
    "\n",
    "cnt = 0\n",
    "for n in n_list:\n",
    "    \n",
    "    if n != 1: #1 제외\n",
    "        \n",
    "        for i in range(2,n): \n",
    "            if n%i == 0:\n",
    "                break\n",
    "        else: cnt +=1\n",
    "print(cnt)\n",
    "\n"
   ]
  },
  {
   "cell_type": "markdown",
   "metadata": {},
   "source": []
  }
 ],
 "metadata": {
  "kernelspec": {
   "display_name": "Python 3 (ipykernel)",
   "language": "python",
   "name": "python3"
  },
  "language_info": {
   "codemirror_mode": {
    "name": "ipython",
    "version": 3
   },
   "file_extension": ".py",
   "mimetype": "text/x-python",
   "name": "python",
   "nbconvert_exporter": "python",
   "pygments_lexer": "ipython3",
   "version": "3.9.10+"
  }
 },
 "nbformat": 4,
 "nbformat_minor": 2
}
