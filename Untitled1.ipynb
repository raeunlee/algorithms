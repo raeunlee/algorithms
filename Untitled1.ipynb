{
 "cells": [
  {
   "cell_type": "code",
   "execution_count": 10,
   "id": "6469f663-d8dd-47f9-946c-b9befd34d8ea",
   "metadata": {},
   "outputs": [
    {
     "name": "stdin",
     "output_type": "stream",
     "text": [
      " 5 2\n",
      " 100 78 37 29 100\n"
     ]
    },
    {
     "name": "stdout",
     "output_type": "stream",
     "text": [
      "100\n"
     ]
    }
   ],
   "source": [
    "# 커트라인 25305\n",
    "\n",
    "def sol(nums,k):\n",
    "    nums.sort(reverse=True)\n",
    "    print(nums[k - 1])\n",
    " \n",
    "n,k=map(int, input().split())\n",
    "nums=list(map(int, input().split()))\n",
    "sol(nums,k)"
   ]
  },
  {
   "cell_type": "code",
   "execution_count": null,
   "id": "fdc3a9f9-890d-41ec-828d-281b00a620f3",
   "metadata": {},
   "outputs": [],
   "source": []
  }
 ],
 "metadata": {
  "kernelspec": {
   "display_name": "Python 3 (ipykernel)",
   "language": "python",
   "name": "python3"
  },
  "language_info": {
   "codemirror_mode": {
    "name": "ipython",
    "version": 3
   },
   "file_extension": ".py",
   "mimetype": "text/x-python",
   "name": "python",
   "nbconvert_exporter": "python",
   "pygments_lexer": "ipython3",
   "version": "3.10.6"
  }
 },
 "nbformat": 4,
 "nbformat_minor": 5
}
