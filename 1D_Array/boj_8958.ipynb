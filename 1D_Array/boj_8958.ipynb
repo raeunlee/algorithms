{
 "cells": [
  {
   "cell_type": "markdown",
   "id": "ce538d22-1927-44e4-b5e2-9c4813211359",
   "metadata": {},
   "source": [
    "# 8958 OX퀴즈\n",
    "### 문제\n",
    "\"OOXXOXXOOO\"와 같은 OX퀴즈의 결과가 있다. O는 문제를 맞은 것이고, X는 문제를 틀린 것이다. 문제를 맞은 경우 그 문제의 점수는 그 문제까지 연속된 O의 개수가 된다. 예를 들어, 10번 문제의 점수는 3이 된다.\n",
    "\n",
    "\"OOXXOXXOOO\"의 점수는 1+2+0+0+1+0+0+1+2+3 = 10점이다.\n",
    "\n",
    "OX퀴즈의 결과가 주어졌을 때, 점수를 구하는 프로그램을 작성하시오.\n",
    "### 입력\n",
    "첫째 줄에 테스트 케이스의 개수가 주어진다. 각 테스트 케이스는 한 줄로 이루어져 있고, 길이가 0보다 크고 80보다 작은 문자열이 주어진다. 문자열은 O와 X만으로 이루어져 있다.\n",
    "### 출력\n",
    "각 테스트 케이스마다 점수를 출력한다."
   ]
  },
  {
   "cell_type": "code",
   "execution_count": 59,
   "id": "8d391e69-88e5-4c80-826e-1263aa5d0100",
   "metadata": {},
   "outputs": [
    {
     "name": "stdin",
     "output_type": "stream",
     "text": [
      " 2\n",
      " OOXOOXO\n",
      " OOXOXOO\n"
     ]
    },
    {
     "name": "stdout",
     "output_type": "stream",
     "text": [
      "15\n",
      "15\n"
     ]
    }
   ],
   "source": [
    "n=int(input())\n",
    "\n",
    "s_list = [input() for _ in range(n)] #예시로 n에 3넣어 3줄 입력받기(엔터로 구분)\n",
    "\n",
    "\n",
    "for i in s_list:\n",
    "    sum = 0\n",
    "    score = 0\n",
    "    for j in i:\n",
    "        if j=='O':\n",
    "            score += 1\n",
    "            sum += score\n",
    "        else:\n",
    "            score == 0\n",
    "             \n",
    "    print(sum)\n",
    "    \n",
    "\n"
   ]
  },
  {
   "cell_type": "code",
   "execution_count": null,
   "id": "5f5d98fb-566c-43ca-8376-9a003617f8ab",
   "metadata": {},
   "outputs": [],
   "source": []
  },
  {
   "cell_type": "code",
   "execution_count": null,
   "id": "d66ebfe0-6301-4bfa-bc6a-3fd4b121d113",
   "metadata": {},
   "outputs": [],
   "source": []
  }
 ],
 "metadata": {
  "kernelspec": {
   "display_name": "Python 3",
   "language": "python",
   "name": "python3"
  },
  "language_info": {
   "codemirror_mode": {
    "name": "ipython",
    "version": 3
   },
   "file_extension": ".py",
   "mimetype": "text/x-python",
   "name": "python",
   "nbconvert_exporter": "python",
   "pygments_lexer": "ipython3",
   "version": "3.8.8"
  }
 },
 "nbformat": 4,
 "nbformat_minor": 5
}
