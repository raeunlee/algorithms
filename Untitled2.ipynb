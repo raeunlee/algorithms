{
 "cells": [
  {
   "cell_type": "code",
   "execution_count": 1,
   "id": "4829c935-61d6-4104-9bb2-b9775f404aee",
   "metadata": {},
   "outputs": [],
   "source": [
    "#10828 스택\n"
   ]
  },
  {
   "cell_type": "markdown",
   "id": "7009fcfb-021e-4cd7-9764-08ae045ac660",
   "metadata": {},
   "source": [
    "스택: 후입선출\n",
    "\n",
    "input은 시간초과가 남\n",
    "sys.stdin.readline().split() 으로 입력받기\n"
   ]
  },
  {
   "cell_type": "code",
   "execution_count": 4,
   "id": "eab42c44-ffef-4da5-9be5-83a97a875ae1",
   "metadata": {},
   "outputs": [],
   "source": []
  },
  {
   "cell_type": "code",
   "execution_count": 3,
   "id": "d8236745-5f31-47a4-9a12-f85dd221f3d3",
   "metadata": {},
   "outputs": [
    {
     "ename": "IndentationError",
     "evalue": "unexpected indent (2091587139.py, line 2)",
     "output_type": "error",
     "traceback": [
      "\u001b[0;36m  Cell \u001b[0;32mIn [3], line 2\u001b[0;36m\u001b[0m\n\u001b[0;31m    def push (self, item):\u001b[0m\n\u001b[0m    ^\u001b[0m\n\u001b[0;31mIndentationError\u001b[0m\u001b[0;31m:\u001b[0m unexpected indent\n"
     ]
    }
   ],
   "source": [
    "import sys\n",
    "N = int(sys.stdin.readline())\n",
    "\n",
    "stack = []\n",
    "\n",
    "for _ in range(N) :\n",
    "    word = sys.stdin.readline().split()\n",
    "    order = word[0]\n",
    "    \n",
    "    if order == \"push\" :\n",
    "        value = word[1]\n",
    "        stack.append(value)\n",
    "    \n",
    "    elif order == \"pop\" :\n",
    "        if len(stack) == 0 : \n",
    "            print(-1)\n",
    "        else :\n",
    "            print(stack.pop())\n",
    "            \n",
    "    elif order == \"size\" :\n",
    "        print(len(stack))\n",
    "        \n",
    "    elif order == \"empty\":\n",
    "        if len(stack) == 0:\n",
    "            print(1)\n",
    "        else:\n",
    "            print(0)\n",
    "    \n",
    "    elif order == \"top\":\n",
    "        if len(stack) == 0:\n",
    "            print(-1)\n",
    "        else : \n",
    "            print(stack[-1])"
   ]
  },
  {
   "cell_type": "code",
   "execution_count": null,
   "id": "57fe98da-311c-4ec9-be86-95ecdfe04527",
   "metadata": {},
   "outputs": [],
   "source": []
  }
 ],
 "metadata": {
  "kernelspec": {
   "display_name": "Python 3 (ipykernel)",
   "language": "python",
   "name": "python3"
  },
  "language_info": {
   "codemirror_mode": {
    "name": "ipython",
    "version": 3
   },
   "file_extension": ".py",
   "mimetype": "text/x-python",
   "name": "python",
   "nbconvert_exporter": "python",
   "pygments_lexer": "ipython3",
   "version": "3.10.8"
  }
 },
 "nbformat": 4,
 "nbformat_minor": 5
}
