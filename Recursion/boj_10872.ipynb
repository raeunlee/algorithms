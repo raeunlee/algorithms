{
 "cells": [
  {
   "cell_type": "code",
   "execution_count": 34,
   "id": "2ced4c10-72af-4ac7-9f82-9ab803632188",
   "metadata": {},
   "outputs": [],
   "source": [
    "#10872_0보다 크거나 같은 정수 N이 주어진다. 이때, N!을 출력하는 프로그램을 작성하시오."
   ]
  },
  {
   "cell_type": "code",
   "execution_count": 35,
   "id": "1879f4eb-5c74-49ac-864f-80d1b8b032ef",
   "metadata": {},
   "outputs": [],
   "source": [
    "#첫째 줄에 정수 N(0 ≤ N ≤ 12)이 주어진다. 첫째 줄에 N!을 출력한다."
   ]
  },
  {
   "cell_type": "code",
   "execution_count": null,
   "id": "e0e63bfc-a13b-4fb8-8d60-9a38e8afdf9f",
   "metadata": {},
   "outputs": [],
   "source": []
  },
  {
   "cell_type": "code",
   "execution_count": 22,
   "id": "f33255f9-f4ac-4d3e-8b6a-88d168e52298",
   "metadata": {
    "tags": []
   },
   "outputs": [
    {
     "name": "stdin",
     "output_type": "stream",
     "text": [
      " 10\n"
     ]
    },
    {
     "name": "stdout",
     "output_type": "stream",
     "text": [
      "3628800\n"
     ]
    }
   ],
   "source": [
    "n = int(input())\n",
    "result = 1\n",
    "\n",
    "if n > 0:\n",
    "    for i in range(1, n+1):\n",
    "        result *= i\n",
    "print(result)"
   ]
  },
  {
   "cell_type": "code",
   "execution_count": 33,
   "id": "17c1a836-92f9-4268-a4f8-90e7dcf54570",
   "metadata": {},
   "outputs": [
    {
     "name": "stdin",
     "output_type": "stream",
     "text": [
      " 80\n"
     ]
    },
    {
     "name": "stdout",
     "output_type": "stream",
     "text": [
      "71569457046263802294811533723186532165584657342365752577109445058227039255480148842668944867280814080000000000000000000\n"
     ]
    }
   ],
   "source": [
    "def factorial(n):\n",
    "    result = 1\n",
    "    if n > 0 :\n",
    "        result = n * factorial(n-1)\n",
    "    return result\n",
    "\n",
    "n = int(input())\n",
    "print(factorial(n))"
   ]
  },
  {
   "cell_type": "code",
   "execution_count": null,
   "id": "7f1122b6-b67b-49d9-84f1-7b93bd6a1c63",
   "metadata": {},
   "outputs": [],
   "source": []
  },
  {
   "cell_type": "code",
   "execution_count": null,
   "id": "ede24705-49f5-4721-bf8e-ab33f0a6a075",
   "metadata": {},
   "outputs": [],
   "source": []
  }
 ],
 "metadata": {
  "kernelspec": {
   "display_name": "Python 3",
   "language": "python",
   "name": "python3"
  },
  "language_info": {
   "codemirror_mode": {
    "name": "ipython",
    "version": 3
   },
   "file_extension": ".py",
   "mimetype": "text/x-python",
   "name": "python",
   "nbconvert_exporter": "python",
   "pygments_lexer": "ipython3",
   "version": "3.8.8"
  }
 },
 "nbformat": 4,
 "nbformat_minor": 5
}
