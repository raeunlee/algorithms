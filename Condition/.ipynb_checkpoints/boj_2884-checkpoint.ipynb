{
 "cells": [
  {
   "cell_type": "markdown",
   "id": "ce3e9317-b3d6-45cd-84de-358bdb9f1078",
   "metadata": {},
   "source": [
    "# 2884 알람시계\n",
    "### 문제\n",
    "상근이는 매일 아침 알람을 듣고 일어난다. 알람을 듣고 바로 일어나면 다행이겠지만, 항상 조금만 더 자려는 마음 때문에 매일 학교를 지각하고 있다.\n",
    "\n",
    "상근이는 모든 방법을 동원해보았지만, 조금만 더 자려는 마음은 그 어떤 것도 없앨 수가 없었다.\n",
    "\n",
    "이런 상근이를 불쌍하게 보던, 창영이는 자신이 사용하는 방법을 추천해 주었다.\n",
    "\n",
    "바로 \"45분 일찍 알람 설정하기\"이다.\n",
    "\n",
    "이 방법은 단순하다. 원래 설정되어 있는 알람을 45분 앞서는 시간으로 바꾸는 것이다. 어차피 알람 소리를 들으면, 알람을 끄고 조금 더 잘 것이기 때문이다. 이 방법을 사용하면, 매일 아침 더 잤다는 기분을 느낄 수 있고, 학교도 지각하지 않게 된다.\n",
    "\n",
    "현재 상근이가 설정한 알람 시각이 주어졌을 때, 창영이의 방법을 사용한다면, 이를 언제로 고쳐야 하는지 구하는 프로그램을 작성하시오.\n",
    "### 입력\n",
    "첫째 줄에 두 정수 H와 M이 주어진다. (0 ≤ H ≤ 23, 0 ≤ M ≤ 59) 그리고 이것은 현재 상근이가 설정한 놓은 알람 시간 H시 M분을 의미한다.\n",
    "\n",
    "입력 시간은 24시간 표현을 사용한다. 24시간 표현에서 하루의 시작은 0:0(자정)이고, 끝은 23:59(다음날 자정 1분 전)이다. 시간을 나타낼 때, 불필요한 0은 사용하지 않는다.\n",
    "### 출력 \n",
    "첫째 줄에 상근이가 창영이의 방법을 사용할 때, 설정해야 하는 알람 시간을 출력한다. (입력과 같은 형태로 출력하면 된다.)"
   ]
  },
  {
   "cell_type": "markdown",
   "id": "da92a87c-154d-42eb-98be-1e64efbc8e8d",
   "metadata": {},
   "source": [
    "10 10 입력시 \n",
    "9 25 출력"
   ]
  },
  {
   "cell_type": "code",
   "execution_count": 14,
   "id": "62175821-3c8b-42a5-83a6-d6ac5dab1bef",
   "metadata": {},
   "outputs": [
    {
     "name": "stdin",
     "output_type": "stream",
     "text": [
      " 23 4\n"
     ]
    },
    {
     "name": "stdout",
     "output_type": "stream",
     "text": [
      "22 19\n"
     ]
    }
   ],
   "source": [
    "h,m = map(int,input().split())\n",
    "\n",
    "if h>0 and m>45:\n",
    "    m = m-45\n",
    "    h = h\n",
    "    print(h, m)\n",
    "elif h==0 and m>45:\n",
    "    m = m-45\n",
    "    h = 23\n",
    "    print(h, m)\n",
    "elif h==0 and m<45:\n",
    "    m = m+15\n",
    "    h = 23\n",
    "    print(h,m)\n",
    "else:\n",
    "    m = m+15\n",
    "    h = h-1\n",
    "    print(h,m)"
   ]
  },
  {
   "cell_type": "code",
   "execution_count": null,
   "id": "39e7bd09-4d62-40cd-ab71-76ca0949bacf",
   "metadata": {},
   "outputs": [],
   "source": []
  }
 ],
 "metadata": {
  "kernelspec": {
   "display_name": "Python 3",
   "language": "python",
   "name": "python3"
  },
  "language_info": {
   "codemirror_mode": {
    "name": "ipython",
    "version": 3
   },
   "file_extension": ".py",
   "mimetype": "text/x-python",
   "name": "python",
   "nbconvert_exporter": "python",
   "pygments_lexer": "ipython3",
   "version": "3.8.8"
  }
 },
 "nbformat": 4,
 "nbformat_minor": 5
}
