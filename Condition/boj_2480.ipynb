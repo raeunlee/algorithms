{
 "cells": [
  {
   "cell_type": "markdown",
   "id": "1723fb49-170e-4b8c-bfb4-b19dfe2e4963",
   "metadata": {},
   "source": [
    "# 2480 주사위 세개\n",
    "### 문제\n",
    "1에서부터 6까지의 눈을 가진 3개의 주사위를 던져서 다음과 같은 규칙에 따라 상금을 받는 게임이 있다. \n",
    "\n",
    "같은 눈이 3개가 나오면 10,000원+(같은 눈)×1,000원의 상금을 받게 된다. \n",
    "같은 눈이 2개만 나오는 경우에는 1,000원+(같은 눈)×100원의 상금을 받게 된다. \n",
    "모두 다른 눈이 나오는 경우에는 (그 중 가장 큰 눈)×100원의 상금을 받게 된다.  \n",
    "예를 들어, 3개의 눈 3, 3, 6이 주어지면 상금은 1,000+3×100으로 계산되어 1,300원을 받게 된다. 또 3개의 눈이 2, 2, 2로 주어지면 10,000+2×1,000 으로 계산되어 12,000원을 받게 된다. 3개의 눈이 6, 2, 5로 주어지면 그중 가장 큰 값이 6이므로 6×100으로 계산되어 600원을 상금으로 받게 된다.\n",
    "\n",
    "3개 주사위의 나온 눈이 주어질 때, 상금을 계산하는 프로그램을 작성 하시오.\n",
    "\n",
    "# 입력\n",
    "첫째 줄에 3개의 눈이 빈칸을 사이에 두고 각각 주어진다. \n",
    "\n",
    "# 출력\n",
    "첫째 줄에 게임의 상금을 출력 한다."
   ]
  },
  {
   "cell_type": "code",
   "execution_count": 9,
   "id": "3667a210-6278-4eff-a370-65968dee23d9",
   "metadata": {},
   "outputs": [
    {
     "name": "stdin",
     "output_type": "stream",
     "text": [
      " 3 3 6\n"
     ]
    },
    {
     "name": "stdout",
     "output_type": "stream",
     "text": [
      "1300\n"
     ]
    }
   ],
   "source": [
    "arr = list(map(int, input().split()))\n",
    "solve = 0\n",
    "if arr[0] == arr[1] == arr[2]:\n",
    "    solve = 10000 + arr[0]*1000\n",
    "elif arr[0]==arr[1]:\n",
    "    solve = 1000 + arr[0]*100\n",
    "elif arr[1]==arr[2]:\n",
    "    solve = 1000 + arr[1]*100\n",
    "elif arr[0]==arr[2]:\n",
    "    solve = 1000 + arr[2]*100\n",
    "else:\n",
    "    solve = max(arr)*100\n",
    "print(solve)\n",
    "    \n",
    "\n",
    "    "
   ]
  },
  {
   "cell_type": "code",
   "execution_count": null,
   "id": "60947372-4c1f-4840-b68e-288390704259",
   "metadata": {},
   "outputs": [],
   "source": []
  }
 ],
 "metadata": {
  "kernelspec": {
   "display_name": "Python 3",
   "language": "python",
   "name": "python3"
  },
  "language_info": {
   "codemirror_mode": {
    "name": "ipython",
    "version": 3
   },
   "file_extension": ".py",
   "mimetype": "text/x-python",
   "name": "python",
   "nbconvert_exporter": "python",
   "pygments_lexer": "ipython3",
   "version": "3.8.8"
  }
 },
 "nbformat": 4,
 "nbformat_minor": 5
}
