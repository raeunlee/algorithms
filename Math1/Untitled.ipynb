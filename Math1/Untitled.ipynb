{
 "cells": [
  {
   "cell_type": "code",
   "execution_count": null,
   "metadata": {},
   "outputs": [],
   "source": [
    "#10250. ACM 호텔"
   ]
  },
  {
   "cell_type": "code",
   "execution_count": null,
   "metadata": {},
   "outputs": [],
   "source": [
    "# H층 건물, W개의 방\n",
    "# W거리 기준이므로, 102호보다는 2101호를 선호함\n",
    "'''\n",
    "3층 건물 3개의 방이라 예시를 들자.\n",
    "손님들이 원하는 순서로 리스트를 만들면\n",
    "\n",
    "[101,201,301,102,202,302,103,203,303]\n",
    "\n",
    "이렇게 되는 셈이다.\n",
    "h 기준으로 w 나열\n",
    "그렇다면 이 순서를 만들어주고, 손님이 온 순서에 해당하는\n",
    "w번째의 인덱스 값을 print하면 된다.\n",
    "\n",
    "'''"
   ]
  },
  {
   "cell_type": "code",
   "execution_count": null,
   "metadata": {},
   "outputs": [],
   "source": [
    "# T개의 테스트데이터\n",
    "\n",
    "t = int(input())\n",
    "\n",
    "for i in range(t):\n",
    "    h, w, n = map(int, input().split())\n",
    "    prefer = [i for i in range(1,h+w+1)]\n",
    "    print(prefer)\n",
    "    # 선호도 리스트 만들기\n",
    "    for x in range(1,h):\n",
    "        prefer = [f'{x}01']\n",
    "        #높이만큼의 리스트 만들기\n",
    "    print(prefer)\n",
    "\n",
    "    "
   ]
  },
  {
   "cell_type": "code",
   "execution_count": null,
   "metadata": {},
   "outputs": [],
   "source": [
    "print(3)"
   ]
  },
  {
   "cell_type": "code",
   "execution_count": null,
   "metadata": {},
   "outputs": [],
   "source": []
  }
 ],
 "metadata": {
  "kernelspec": {
   "display_name": "Python 3 (ipykernel)",
   "language": "python",
   "name": "python3"
  },
  "language_info": {
   "codemirror_mode": {
    "name": "ipython",
    "version": 3
   },
   "file_extension": ".py",
   "mimetype": "text/x-python",
   "name": "python",
   "nbconvert_exporter": "python",
   "pygments_lexer": "ipython3",
   "version": "3.9.10+"
  }
 },
 "nbformat": 4,
 "nbformat_minor": 2
}
