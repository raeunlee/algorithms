{
 "cells": [
  {
   "cell_type": "code",
   "execution_count": null,
   "metadata": {},
   "outputs": [],
   "source": [
    "# 2775. 부녀회장이 될테야"
   ]
  },
  {
   "cell_type": "code",
   "execution_count": 1,
   "metadata": {},
   "outputs": [],
   "source": [
    "# a층의 b호에 살려면 자신의 아래(a-1)층의 1호부터 b호까지\n",
    "# 사람들의 수의 합만큼 사람들을 데려와 살아야 한다."
   ]
  },
  {
   "cell_type": "code",
   "execution_count": 2,
   "metadata": {},
   "outputs": [],
   "source": [
    "# 주어지는 양의 정수 k와 n에 대해 k층에 n호에는 몇 명이 사는지?"
   ]
  },
  {
   "cell_type": "code",
   "execution_count": 3,
   "metadata": {},
   "outputs": [],
   "source": [
    "# 아파트는 0층부터, 각층에는 1호 부터."
   ]
  },
  {
   "cell_type": "code",
   "execution_count": 4,
   "metadata": {},
   "outputs": [],
   "source": [
    "# 첫 번째 줄에 Test case의 수 T가 주어짐."
   ]
  },
  {
   "cell_type": "code",
   "execution_count": 5,
   "metadata": {},
   "outputs": [],
   "source": [
    "# 그리고 각각의 케이스마다 첫번째 줄에 정수 k, 두번째줄에 n"
   ]
  },
  {
   "cell_type": "code",
   "execution_count": 6,
   "metadata": {},
   "outputs": [
    {
     "data": {
      "text/plain": [
       "'\\n규칙을 찾아보면\\n\\n3층: 1 5 15 35 70 ,,,\\n2층: 1 4 10 20 35 ,,,\\n1층: 1 3 6 10 15 ,,,\\n0층: 1 2 3 4 5 ,,,\\n\\n1층의 1호 = 1\\n1층의 2호 = 1+2\\n1층의 3호 = 1+2+3\\n\\n2층의 1호 = 1\\n2층의 2호 = 1+3\\n2층의 3호 = 1+3+6 => 아랫집 더하기 옆집\\n\\nk층의 n호는 = k-1층의 n호 + k층의 n-1호\\n\\n\\n'"
      ]
     },
     "execution_count": 6,
     "metadata": {},
     "output_type": "execute_result"
    }
   ],
   "source": [
    "'''\n",
    "규칙을 찾아보면\n",
    "\n",
    "3층: 1 5 15 35 70 ,,,\n",
    "2층: 1 4 10 20 35 ,,,\n",
    "1층: 1 3 6 10 15 ,,,\n",
    "0층: 1 2 3 4 5 ,,,\n",
    "\n",
    "1층의 1호 = 1\n",
    "1층의 2호 = 1+2\n",
    "1층의 3호 = 1+2+3\n",
    "\n",
    "2층의 1호 = 1\n",
    "2층의 2호 = 1+3\n",
    "2층의 3호 = 1+3+6 => 아랫집 더하기 옆집\n",
    "\n",
    "k층의 n호는 = k-1층의 n호 + k층의 n-1호\n",
    "\n",
    "\n",
    "'''"
   ]
  },
  {
   "cell_type": "code",
   "execution_count": null,
   "metadata": {},
   "outputs": [],
   "source": [
    "t = int(input())\n",
    "\n",
    "for i in range(t):\n",
    "    k = int(input()) #층\n",
    "    n = int(input()) #호수\n",
    "    people = [i for i in range(1, n+1)]\n",
    "    # n호 까지 리스트업\n",
    "    # print(people) 확인\n",
    "    for j in range(k): #k번 반복\n",
    "        for x in range(1,n):\n",
    "            people[x] += people[x-1]\n",
    "            #리스트의 n호를 계속 더해줌\n",
    "            #print(people) #리스트 확인\n",
    "    print(people[-1]) #k층 n호의 거주민 수 출력"
   ]
  },
  {
   "cell_type": "code",
   "execution_count": null,
   "metadata": {},
   "outputs": [],
   "source": []
  }
 ],
 "metadata": {
  "kernelspec": {
   "display_name": "Python 3 (ipykernel)",
   "language": "python",
   "name": "python3"
  },
  "language_info": {
   "codemirror_mode": {
    "name": "ipython",
    "version": 3
   },
   "file_extension": ".py",
   "mimetype": "text/x-python",
   "name": "python",
   "nbconvert_exporter": "python",
   "pygments_lexer": "ipython3",
   "version": "3.9.10+"
  }
 },
 "nbformat": 4,
 "nbformat_minor": 2
}
