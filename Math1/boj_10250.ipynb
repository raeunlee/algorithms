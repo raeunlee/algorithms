{
 "cells": [
  {
   "cell_type": "code",
   "execution_count": null,
   "metadata": {},
   "outputs": [],
   "source": [
    "#10250. ACM 호텔"
   ]
  },
  {
   "cell_type": "code",
   "execution_count": 1,
   "metadata": {},
   "outputs": [
    {
     "data": {
      "text/plain": [
       "'\\n3층 건물 3개의 방이라 예시를 들자.\\n손님들이 원하는 순서로 리스트를 만들면\\n\\n[101,201,301,102,202,302,103,203,303]\\n\\n이렇게 되는 셈이다.\\nh 기준으로 w 나열\\n그렇다면 이 순서를 만들어주고, 손님이 온 순서에 해당하는\\nw번째의 인덱스 값을 print하면 된다.\\n\\n'"
      ]
     },
     "execution_count": 1,
     "metadata": {},
     "output_type": "execute_result"
    }
   ],
   "source": [
    "# H층 건물, W개의 방\n",
    "# W거리 기준이므로, 102호보다는 2101호를 선호함\n",
    "'''\n",
    "3층 건물 3개의 방이라 예시를 들자.\n",
    "손님들이 원하는 순서로 리스트를 만들면\n",
    "\n",
    "H=3, W=3일 경우\n",
    "[101,201,301,102,202,302,103,203,303]\n",
    "\n",
    "N=1 101\n",
    "N=2 201\n",
    "N=3 301\n",
    "N=4 102\n",
    "N=5 202\n",
    "\n",
    "배정받는 층 = 순서%높이 \n",
    "배정받는 방 = 순서//높이 + 1\n",
    "\n",
    "이렇게 되는 셈이다.\n",
    "h 기준으로 w 나열\n",
    "그렇다면 이 순서를 만들어주고, 손님이 온 순서에 해당하는\n",
    "w번째의 인덱스 값을 print하면 된다.\n",
    "\n",
    "'''"
   ]
  },
  {
   "cell_type": "code",
   "execution_count": 11,
   "metadata": {},
   "outputs": [
    {
     "name": "stdout",
     "output_type": "stream",
     "text": [
      "1\n",
      "3 3 4\n",
      "102\n"
     ]
    }
   ],
   "source": [
    "# T개의 테스트데이터\n",
    "\n",
    "t = int(input())\n",
    "\n",
    "for i in range(t):\n",
    "    h, w, n = map(int, input().split())\n",
    "    room = n//h+1 #n번째 손님의 선호하는 호수\n",
    "    floor = n%h #배정받게 되는 층\n",
    "    \n",
    "    if floor == 0:\n",
    "        room -= 1\n",
    "        floor = h\n",
    "#층수가 0이 나오면, 높이로 설정, 룸 번호도 조정해줌\n",
    "\n",
    "    print(f'{floor*100+room}')\n",
    "\n",
    "    "
   ]
  },
  {
   "cell_type": "code",
   "execution_count": null,
   "metadata": {},
   "outputs": [],
   "source": [
    "print(3)"
   ]
  },
  {
   "cell_type": "code",
   "execution_count": null,
   "metadata": {},
   "outputs": [],
   "source": []
  }
 ],
 "metadata": {
  "kernelspec": {
   "display_name": "Python 3 (ipykernel)",
   "language": "python",
   "name": "python3"
  },
  "language_info": {
   "codemirror_mode": {
    "name": "ipython",
    "version": 3
   },
   "file_extension": ".py",
   "mimetype": "text/x-python",
   "name": "python",
   "nbconvert_exporter": "python",
   "pygments_lexer": "ipython3",
   "version": "3.9.10+"
  }
 },
 "nbformat": 4,
 "nbformat_minor": 2
}
